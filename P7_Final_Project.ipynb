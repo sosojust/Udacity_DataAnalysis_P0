{
 "cells": [
  {
   "cell_type": "markdown",
   "metadata": {
    "deletable": true,
    "editable": true
   },
   "source": [
    "# 最终项目：免费试学筛选器"
   ]
  },
  {
   "cell_type": "markdown",
   "metadata": {
    "deletable": true,
    "editable": true
   },
   "source": [
    "> P.S: 通过CDN引入 MathJax 协助撰写公式.\n",
    "<!-- 引入 MathJax -->\n",
    "<script type=\"text/javascript\" src=\"http://cdn.mathjax.org/mathjax/latest/MathJax.js?config=default\"></script>"
   ]
  },
  {
   "cell_type": "markdown",
   "metadata": {
    "deletable": true,
    "editable": true
   },
   "source": [
    "### 项目描述\n",
    "在进行此试验时，优达学城当前的主页上有两个选项：“开始免费试学”和“访问课程资料”。\n",
    "如果学生点击“开始免费试学”，系统将要求他们输入信用卡信息，然后他们将进入付费课\n",
    "程版本的免费试学。 14 天后，将对他们自动收费，除非他们在此期限结束前取消试用。若\n",
    "学生点击“访问课程材料”，他们将能够观看视频和免费进行小测试，但是他们不会获得导\n",
    "师指导支持或验证证书，无法提交最终项目来获取反馈。\n",
    "在此试验中，优达学城测试了一项变化，如果学生点击“开始免费试学”，系统会问他们有\n",
    "多少时间投入到这个课程中。如果学生表示每周 5 小时或更多，将按常规程序进行登录。\n",
    "如果他们表示一周不到 5 小时，将出现一条消息说明优达学城的课程通常需要更多的时间\n",
    "投入才能成功完成，并建议学生可免费访问课程资料。在这里，学生可选择继续进行免费试\n",
    "学，或免费访问课程资料。"
   ]
  },
  {
   "cell_type": "markdown",
   "metadata": {
    "deletable": true,
    "editable": true
   },
   "source": [
    "## 试验设计"
   ]
  },
  {
   "cell_type": "markdown",
   "metadata": {
    "deletable": true,
    "editable": true
   },
   "source": [
    "### 度量选择"
   ]
  },
  {
   "cell_type": "markdown",
   "metadata": {
    "deletable": true,
    "editable": true
   },
   "source": [
    "#### 不变量度量的选择\n",
    "1. cookie的数量：点击“开始免费试学”后的变更，影响访问网页的cookie数量的可能性不大，cookie的数量可以作为不变量\n",
    "2. 点击次数：和cookie数量类似，点击“开始免费试学”后的变更，不太可能影响点击其次数。可以作为不变量\n",
    "3. 点进概率：和cookie数量与点击次数类似，点击“开始免费试学”后的变更，不太可能影响点进概率。可以作为不变量"
   ]
  },
  {
   "cell_type": "markdown",
   "metadata": {
    "deletable": true,
    "editable": true
   },
   "source": [
    "#### 评估度量\n",
    "> 评估度量的选择，主要考虑公司的高级业务指标以及真实的用户体验如何。对于该企业来说，用户注册量以及付费用户量可以作为其高级业务指标。因此进行了如下选择：\n",
    "\n",
    "1. 总转换率： 即完成登录并参加免费试学的用户 id 的数量除以点击“开始免费试学”按钮的唯一 cookie 的数量所得的比率。期望通过实验增加注册用户量。\n",
    "2. 净转换率： 经转换率是总转换率和留存率的一个结果。即在 14 天的期限后仍参与课程的用户 id 的数量（因此至少进行了一次付费）除以点击了“开始免费试学”按钮的唯一 cookie 的数量所得的比率。表示所有支付用户占全部点击“开始免费试学”次数的比例。\n"
   ]
  },
  {
   "cell_type": "markdown",
   "metadata": {
    "deletable": true,
    "editable": true
   },
   "source": [
    "#### 未选择的度量\n",
    "1. user_id: 用户id的数量这个度量比较复杂。首先它发生于试验之后，会受到试验的影响，因此它是一个ok的评估度量。但是，由于实验组和对照组的cookie数量不一定相同，也就是说两组中用户ID数量不同可能是由于实验的影响，也可能是由于两组cookie的不同。所以使用用户ID数量的区别不能够很好的评估试验的效果。在一个比例化的评估度量（总转化率）存在的情况下，我们可以不选择用户ID的数量作为评估度量。\n",
    "2. 留存率： 一方面说，留存率作为查看支付用户在完成免费试用用户的一个比例，可以作为一个很好的评估度量，但是，当我们计算需要的页面浏览量和曝光时间时，根据留存率这个变量进行计算所需要的页面浏览量特别高，在一般A/B test的持续时间内我们无法采集这么多样本，因此不再把留存率当作评估度量。"
   ]
  },
  {
   "cell_type": "markdown",
   "metadata": {
    "deletable": true,
    "editable": true
   },
   "source": [
    "#### 期望的结果\n",
    "该试验的预期是减少时间不足的同学注册，因此总转化率预期会显著降低；\n",
    "\n",
    "因为这部分同学会在学习中遇挫，而最终不会参加付费学习，所以净转化率预期为不变。净转化率增加我们是可以接受的，但是净转化率降低说明注册人数减少，影响收益，是我们不期望看到的，因此我们的预期是净转化率 不降低，也就是置信区间可以为0，但不要包含负数；\n",
    "\n",
    "如果你也选择了留存率作为评估度量，留存率的预期为升高。\n",
    "\n",
    "在这些条件都满足的情况下，可以在今后实施此改动。"
   ]
  },
  {
   "cell_type": "markdown",
   "metadata": {
    "deletable": true,
    "editable": true
   },
   "source": [
    "### 测量可变性（计算标准偏差）"
   ]
  },
  {
   "cell_type": "markdown",
   "metadata": {
    "deletable": true,
    "editable": true
   },
   "source": [
    "度量基准值如下：\n",
    "\n",
    "Item | value\n",
    "---|---\n",
    "Unique cookies to view page per day: | 40000\n",
    "Unique cookies to click \"Start free trial\" per day: | 3200\n",
    "Enrollments per day: | 660\n",
    "Click-through-probability on \"Start free trial\": | 0.08\n",
    "Probability of enrolling, given click: | 0.20625\n",
    "Probability of payment, given enroll: | 0.53\n",
    "Probability of payment, given click: | 0.1093125\n",
    "\n",
    "\n",
    "\n"
   ]
  },
  {
   "cell_type": "markdown",
   "metadata": {
    "deletable": true,
    "editable": true
   },
   "source": [
    ">假设有5000个cookie样本\n",
    "\n",
    "1. 计算点击量： click_num = 5000 * 0.08 = 400\n",
    "2. 计算注册数量： enrollment_num = click_num * 0.20625 = 400 * 0.20625 = 82.5\n",
    "3. 计算支付数量： \n",
    "    1. payment_num =  enrollment_num * 0.53 = 82.5 * 0.53 = 43.725\n",
    "    2. payment_num =  click_num * 0.1093125 = 400 * 0.1093125 = 43.725\n",
    "\n",
    "---\n",
    "计算标准偏差时，由于注册和支付都可以是为二项分布，因此可以使用如下公式计算标准偏差：\n",
    "$$\\sqrt{\\frac{{P}(1-P)}{N}}$$\n",
    "\n",
    "- 总转换率: P = 0.20625; N = 400。 gross_stander_err = 0.020230604。总转换率即完成登录并参加免费试学的用户 id 的数量除以点击“开始免费试学”按钮的唯一 cookie 的数量所得的比率。unit of analysis 和 unit of diversion 都是cookie， 分析变异性与经验变异性匹配。因此，分析评估可用于该评估度量。\n",
    "- 净转换率: P = 0.1093125; N = 400。 net_stander_err = 0.015601545。净转换率即在 14 天的期限后仍参与课程的用户 id 的数量（因此至少进行了一次付费）除以点击了“开始免费试学”按钮的唯一 cookie 的数量所得的比率。与总转换率相同，由于 unit of analysis 和 unit of diversion 都是 cookie，该分析评估是大致准确的。"
   ]
  },
  {
   "cell_type": "markdown",
   "metadata": {
    "deletable": true,
    "editable": true
   },
   "source": [
    "### 规模"
   ]
  },
  {
   "cell_type": "markdown",
   "metadata": {
    "deletable": true,
    "editable": true
   },
   "source": [
    "#### 样本数量和支持\n",
    "\n",
    "选择了两个评估度量，因此需要从两个度量的角度分别计算需要的网页访问样本量：\n",
    "\n",
    "使用 [样本数量在线计算器](http://www.evanmiller.org/ab-testing/sample-size.html) 进行样本样计算\n",
    "\n",
    "1. 净转换率：\n",
    "    1. 总转换率 = 0.1093125 （baseline conversion rate）\n",
    "    2. d<sub>min</sub> = 0.0075 （Minimum Detectable Effect）\n",
    "    3. 置信水平 alpha = 0.05\n",
    "    4. beta = 0.2\n",
    "    5. 根据计算器得到点击数 = 27413\n",
    "    6. 根据转换率得到需要的页面访问量 = 27413/ 0.08(点进率) = 342662.5\n",
    "    7. 需要区分对照组和实验组，因此总的页面访问量 = 342662.5 * 2 = 685325\n",
    "\n",
    "2. 总转换率：\n",
    "    1. 总转换率 = 0.20625 （baseline conversion rate）\n",
    "    2. d<sub>min</sub> = 0.01（Minimum Detectable Effect）\n",
    "    3. 置信水平 alpha = 0.05\n",
    "    4. beta = 0.2\n",
    "    5. 根据计算器得到点击数 = 25835\n",
    "    6. 根据转换率得到需要的页面访问量 = 25835/ 0.08(点进率) = 322937.5\n",
    "    7. 需要区分对照组和实验组，因此总的页面访问量 = 322937.5 * 2 = 645875\n",
    "\n",
    "> 上述两者得出的样本量基本一致，选择稍大的净转换率得出的页面访问量： 685325"
   ]
  },
  {
   "cell_type": "markdown",
   "metadata": {
    "deletable": true,
    "editable": true
   },
   "source": [
    "#### 持续时间和风险暴露\n",
    "\n",
    "我认为该试验不会有风险：\n",
    "\n",
    "- 即使学生每周学不到五小时，他们只是被页面的变更提醒引导到了另外的一个页面，如果今后有需要学生仍然可以进入免费试学、登陆并可能完成继续课程的，不会因此影响用户使用网站的习惯\n",
    "- 没有在页面展示上有过大的改动，不会对用户产生感情上的冲击，用户也不需要花长时间去适应页面的改变。\n",
    "- 该试验没有关于数据库及后台的改变，不用担心数据的丢失及由于后台的失误导致网页奔溃用户无法访问网页等大问题。\n",
    "- 此试验也不会对用户的个人信息安全造成风险，因为不论网页是否增加了提醒，用户在确认参加免费试学时都得输入信用卡信息，而很明显系统一定会保护用户的个人信息。\n",
    "- 该试验同样也没有道德上的风险。\n",
    "因此我们可以选取高达100%的转移流量。\n",
    "\n",
    "\n",
    "\n",
    "转入该实验的流量需要基于实验的风险进行考虑。如果将100%的流量转入实验，那么实验可以在18天（每天访问量为40000）内完成。"
   ]
  },
  {
   "cell_type": "markdown",
   "metadata": {
    "deletable": true,
    "editable": true
   },
   "source": [
    "### 合理性检查"
   ]
  },
  {
   "cell_type": "markdown",
   "metadata": {
    "deletable": true,
    "editable": true
   },
   "source": [
    "#### cookie数量的检查"
   ]
  },
  {
   "cell_type": "markdown",
   "metadata": {
    "deletable": true,
    "editable": true
   },
   "source": [
    "- 对照组访问量总数 control_group_sum_page_views = 345543\n",
    "- 实验组访问量总数 experiment_group_sum_page_views = 344660\n",
    "- 事件概率 p = 0.5\n",
    "- 标准偏差 stander_deviation = SQRT(0.5*(1-0.5)/(345543+344660)) = 0.000601841\n",
    "- 95%置信区间对应的Z值 = 1.96\n",
    "- 误差幅度 margin of error = 1.96 * 0.000601841 = 0.001179608\n",
    "- lower bound = 0.5 - 0.001179608 = 0.498820392\n",
    "- upper bound = 0.5 + 0.001179608 = 0.501179608\n",
    "- 观测值 = 345543/(345543 + 344660) = 0.500639667\n",
    "\n",
    "> 观测值在lower bound 和 upper bound 区间内。因此 cookie 数量通过合理性检查\n"
   ]
  },
  {
   "cell_type": "markdown",
   "metadata": {
    "deletable": true,
    "editable": true
   },
   "source": [
    "#### “start free trial”点击量的检查"
   ]
  },
  {
   "cell_type": "markdown",
   "metadata": {
    "deletable": true,
    "editable": true
   },
   "source": [
    "- 对照组总点击量 control_group_sum_clicks = 28378\n",
    "- 实验组总点击量 experiment_group_sum_clicks = 28325\n",
    "- 事件概率 p = 0.5\n",
    "- 标准偏差 stander_deviation = SQRT(0.5*(1-0.5)/(28378+28325)) = 0.002099747\n",
    "- 95%置信区间对应的Z值 = 1.96\n",
    "- 误差幅度 margin of error = 1.96 * 0.002099747 = 0.004115504\n",
    "- lower bound = 0.5 - 0.004115504 = 0.495884496\n",
    "- upper bound = 0.5 + 0.004115504 = 0.504115504\n",
    "- 观测值 = 28378/(28378 + 28325) = 0.500467347\n",
    "\n",
    "> 观测值在lower bound 和 upper bound 区间内。因此点击量通过合理性检查"
   ]
  },
  {
   "cell_type": "markdown",
   "metadata": {
    "deletable": true,
    "editable": true
   },
   "source": [
    "#### “start free trial”点进率"
   ]
  },
  {
   "cell_type": "markdown",
   "metadata": {
    "deletable": true,
    "editable": true
   },
   "source": [
    "- 对照组点进率 control_group_sum_click_rate = 0.082125814\n",
    "- 实验组点进率 experiment_group_sum_clicks = 0.082182441\n",
    "- 标准偏差 stander_deviation = SQRT(0.082125814*(1-0.082125814)/345543) = 0.000467068\n",
    "- 95%置信区间对应的Z值 = 1.96\n",
    "- 误差幅度 margin of error = 1.96 * 0.000467068 = 0.000915454\n",
    "- lower bound = 0.082125814 - 0.000915454 = 0.08121036\n",
    "- upper bound = 0.082125814 + 0.000915454 = 0.083041267\n",
    "- 观测值为实验组点进率 = 0.082182441\n",
    "\n",
    "> 观测值在lower bound 和 upper bound 区间内。因此点进率通过合理性检查"
   ]
  },
  {
   "cell_type": "markdown",
   "metadata": {
    "deletable": true,
    "editable": true
   },
   "source": [
    "### 结果分析"
   ]
  },
  {
   "cell_type": "markdown",
   "metadata": {
    "deletable": true,
    "editable": true
   },
   "source": [
    "#### 效应大小检验"
   ]
  },
  {
   "cell_type": "markdown",
   "metadata": {
    "deletable": true,
    "editable": true
   },
   "source": [
    "##### 总转换率"
   ]
  },
  {
   "cell_type": "markdown",
   "metadata": {
    "deletable": true,
    "editable": true
   },
   "source": [
    "- 对照组总注册量 control_group_sum_enrollment = 3785\n",
    "- 实验组总注册量 experiment_group_sum_enrollment = 3423\n",
    "- 对照组总点击量（由于注册量只有前23天的数据） control_clicks_before_Nov23 = 17293\n",
    "- 实验组总点击量（由于注册量只有前23天的数据） experiment_clicks_before_Nov23 = 17260\n",
    "- 全部注册量 total_enrollment = 3785 + 3423 = 7208\n",
    "- 前23天全部点击量 total_clicks_before_Nov23 = 34553\n",
    "- 合并概率 Gross_P_pool = 7208/34553 = 0.208607067\n",
    "- 合并标准偏差 stander_devivation_pool = sqrt(0.208607067* (1 - 0.208607067)*(1/17293 + 1/17260)) = 0.004371675\n",
    "- 95%置信区间对应的Z值 = 1.96\n",
    "- 误差幅度 margin of error = 1.96 * 0.004371675 = 0.008568484\n",
    "- 差异 d = 3423/17260 - 3785/17293 = -0.020554875\n",
    "- lower bound = -0.020554875 - 0.008568484 = -0.029123358\n",
    "- upper bound = -0.020554875 + 0.008568484 = -0.011986391\n",
    "\n",
    "置信区间为[-0.029123358, -0.011986391] 不包含 0 ，因此具有统计显著性；\n",
    "\n",
    "[-dmin,dmin] = [-0.01, 0.01]。不包含置信区间的边界，因此具有实际显著性"
   ]
  },
  {
   "cell_type": "markdown",
   "metadata": {
    "deletable": true,
    "editable": true
   },
   "source": [
    "##### 净转换率"
   ]
  },
  {
   "cell_type": "markdown",
   "metadata": {
    "deletable": true,
    "editable": true
   },
   "source": [
    "- 对照组总支付量 control_group_sum_payment = 2033\n",
    "- 实验组总支付量 experiment_group_sum_payment = 1945\n",
    "- 对照组总点击量（由于支付数据只有前23天的数据） control_clicks_before_Nov23 = 17293\n",
    "- 实验组总点击量（由于支付数据只有前23天的数据） experiment_clicks_before_Nov23 = 17260\n",
    "- 全部支付量 total_payment = 3785 + 3423 = 3978\n",
    "- 前23天全部点击量 total_clicks_before_Nov23 = 34553\n",
    "- 合并概率 Gross_P_pool = 3978/34553 = 0.115127485\n",
    "- 合并标准偏差 stander_devivation_pool = sqrt(0.115127485* (1 - 0.115127485)*(1/17293 + 1/17260)) = 0.003434134\n",
    "- 95%置信区间对应的Z值 = 1.96\n",
    "- 误差幅度 margin of error = 1.96 * 0.003434134 = 0.006730902\n",
    "- 差异 d = 1945/17260 - 2033/17293 = -0.004873723\n",
    "- lower bound = -0.004873723 - 0.006730902 = -0.011604624\n",
    "- upper bound = -0.004873723 + 0.006730902 = 0.001857179\n",
    "\n",
    "置信区间为[-0.011604624, 0.001857179] 包含 0 ，因此不具有统计显著性；\n",
    "\n",
    "[-dmin,dmin] = [-0.0075, 0.0075]。包含置信区间的边界，因此不具有实际显著性"
   ]
  },
  {
   "cell_type": "markdown",
   "metadata": {
    "collapsed": true,
    "deletable": true,
    "editable": true
   },
   "source": [
    "#### 符号检验"
   ]
  },
  {
   "cell_type": "markdown",
   "metadata": {
    "collapsed": true,
    "deletable": true,
    "editable": true
   },
   "source": [
    "1. 在23天的试验中，实验组对比对照组学生总转换率有效果（总转换率提高）的天数为4天\n",
    "2. 在23天的试验中，实验组对比对照组学生净转换率有效果（净转换率提高）的天数为10天\n",
    "\n",
    "使用[在线计算器](http://graphpad.com/quickcalcs/binomial1.cfm) 进行符号检验计算，得出结果如下：\n",
    "1. 总转换率 P 值： Gross_P_value = 0.0026。对于总转换率， P 值 < alpha = 0.05，因此该符号检验是<span style=\"color:red\">统计性显著</span>的\n",
    "2. 净转换率 P 值： Net_P_value = 0.6776。对于净转换率， P 值 > alpha = 0.05，因此该符号检验是<span style=\"color:red\">非统计性显著</span>的"
   ]
  },
  {
   "cell_type": "markdown",
   "metadata": {
    "deletable": true,
    "editable": true
   },
   "source": [
    "### 总结"
   ]
  },
  {
   "cell_type": "markdown",
   "metadata": {
    "deletable": true,
    "editable": true
   },
   "source": [
    "在做多重比较（multiple comparison）时，由于要在同一个数据集上检验多个结论，所以犯第一类错误（元假设成立而被拒绝所犯的错误）的概率大大增加。\n",
    "\n",
    "假设只做一次检验时的显著性水平为0.05，即接受备择假设的允许犯错概率为5%，那么保留元假设的犯错概率就是95%. 如果在同一个数据集上做了n次**独立检验**，那么n次都不犯第一类错误的概率是（0.95）^n，于是这n次中至少有一次犯了第一类错误的概率是1－（0.95）^n. 当n增大时，显然1－（0.95）^n也会增大，例如当n＝10，1－（0.95）^10=0.40, 即对同一数据集做10次检验假设的犯错概率上升为40%，远远大于实际可以忍受的5%的犯错概率。解决这个问题的措施，通常是对单次检验的显著性水平做修正，最常用的是Bonferroni correction。在这一修正下，单次检验的显著性水平被设定为总体的显著性水平（如0.05）的1/n （如n＝10，则单次检验的接受概率变为0.005）。\n",
    "\n",
    "从上面的解释可以看出，Bonferroni校正主要适用于n次独立检验。但是本试验中的总转化率和净转化率并非是独立的，而是相关联的，因此使用Bonferroni校正会使得试验结果过于保守，不建议使用。"
   ]
  },
  {
   "cell_type": "markdown",
   "metadata": {},
   "source": [
    "### 建议"
   ]
  },
  {
   "cell_type": "markdown",
   "metadata": {},
   "source": [
    "不建议采用实验方法进行网站变更。因为基于23天的实验数据表明：\n",
    "\n",
    "虽然总转化率具有统计和实际显著性，是我们希望看到的结果。但是净转化率的置信区间包含负数（注意，此处并不仅仅因为包含0），这是我们不希望看到的，这也说明在投入人力和时间成本之后，进行该试验之后净转化率可能会减少。"
   ]
  },
  {
   "cell_type": "markdown",
   "metadata": {
    "deletable": true,
    "editable": true
   },
   "source": [
    "## 后续实验的设计"
   ]
  },
  {
   "cell_type": "markdown",
   "metadata": {
    "deletable": true,
    "editable": true
   },
   "source": [
    "这个实验主要关注用户转换率。一个可能的后续实验可以进行如下设计：\n",
    "给学习课程的注册用户一个优惠：在用户完成一个课程后，可以免费或者给予50%的折扣让用户进行下一个相关课程的学习。该内容在用户点击“start free trial”后显示告知客户。\n",
    "该假设为，进行该功能的发布可以提供用户的转换率。需要进行如何分析：\n",
    "\n",
    "- 转换单元: user_ids\n",
    "为了保证不变量的一致性，且该实验发生在注册后。因此可以使用用户id作为不变量进行试验。\n",
    "不变量指标: user_ids的数量\n",
    "\n",
    "原因：\n",
    "因为在课程选择页面，都是在用户登录后且选择课程时才会显示上述试验内容。因此需要使用 用户id保证用户的一致性。\n",
    "评估量指标: 净转换率\n",
    "试验的目标是为了查看是否提高了支付用户的数量。因此使用净转换率。"
   ]
  },
  {
   "cell_type": "code",
   "execution_count": null,
   "metadata": {
    "collapsed": true,
    "deletable": true,
    "editable": true
   },
   "outputs": [],
   "source": []
  }
 ],
 "metadata": {
  "kernelspec": {
   "display_name": "Python 2",
   "language": "python",
   "name": "python2"
  },
  "language_info": {
   "codemirror_mode": {
    "name": "ipython",
    "version": 2
   },
   "file_extension": ".py",
   "mimetype": "text/x-python",
   "name": "python",
   "nbconvert_exporter": "python",
   "pygments_lexer": "ipython2",
   "version": "2.7.13"
  }
 },
 "nbformat": 4,
 "nbformat_minor": 2
}
